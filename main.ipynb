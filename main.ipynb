{
 "cells": [
  {
   "cell_type": "code",
   "execution_count": 7,
   "metadata": {},
   "outputs": [
    {
     "output_type": "display_data",
     "data": {
      "text/html": "        <script type=\"text/javascript\">\n        window.PlotlyConfig = {MathJaxConfig: 'local'};\n        if (window.MathJax) {MathJax.Hub.Config({SVG: {font: \"STIX-Web\"}});}\n        if (typeof require !== 'undefined') {\n        require.undef(\"plotly\");\n        requirejs.config({\n            paths: {\n                'plotly': ['https://cdn.plot.ly/plotly-latest.min']\n            }\n        });\n        require(['plotly'], function(Plotly) {\n            window._Plotly = Plotly;\n        });\n        }\n        </script>\n        "
     },
     "metadata": {}
    }
   ],
   "source": [
    "import numpy as np\n",
    "import pandas as pd\n",
    "import os \n",
    "import tensorflow as tf\n",
    "from matplotlib.pyplot import cm\n",
    "import matplotlib.pyplot as plt\n",
    "import numpy as np\n",
    "import plotly.offline as of\n",
    "import plotly.graph_objs as go\n",
    "of.offline.init_notebook_mode(connected=True)\n",
    "import h5py\n",
    "from data.plot3D import plot_voxelgrid, plot_points\n",
    "from  data.voxelgrid import VoxelGrid"
   ]
  },
  {
   "cell_type": "code",
   "execution_count": 8,
   "metadata": {},
   "outputs": [
    {
     "output_type": "execute_result",
     "data": {
      "text/plain": "'temp-plot.html'"
     },
     "metadata": {},
     "execution_count": 8
    }
   ],
   "source": [
    "# with h5py.File(\"data/train_point_clouds.h5\", \"r\") as points_dataset:        \n",
    "#     digits = []\n",
    "#     for i in range(10):\n",
    "#         digit = (points_dataset[str(i)][\"img\"][:], \n",
    "#                  points_dataset[str(i)][\"points\"][:], \n",
    "#                  points_dataset[str(i)].attrs[\"label\"]) \n",
    "#         digits.append(digit)\n",
    "        \n",
    "# x_c = [r[0] for r in digits[0][1]]\n",
    "# y_c = [r[1] for r in digits[0][1]]\n",
    "# z_c = [r[2] for r in digits[0][1]]\n",
    "# trace1 = go.Scatter3d(x=x_c, y=y_c, z=z_c, mode='markers', \n",
    "#                       marker=dict(size=12, color=z_c, colorscale='Viridis', opacity=0.7))\n",
    "\n",
    "# data = [trace1]\n",
    "# layout = go.Layout(height=500, width=600, title= \"Digit: \"+str(digits[0][2]) + \" in 3D space\")\n",
    "# fig = go.Figure(data=data, layout=layout)\n",
    "# of.plot(fig)"
   ]
  },
  {
   "cell_type": "code",
   "execution_count": 9,
   "metadata": {
    "tags": []
   },
   "outputs": [
    {
     "output_type": "stream",
     "name": "stdout",
     "text": "data/plot3D.py\ndata/test_point_clouds.h5\ndata/full_dataset_vectors.h5\ndata/voxelgrid.py\ndata/train_point_clouds.h5\ndata/__pycache__/plot3D.cpython-37.pyc\ndata/__pycache__/voxelgrid.cpython-37.pyc\nx_train shape:  (10000, 4096)\ny_train shape:  (10000,)\nx_test shape:   (2000, 4096)\ny_test shape:   (2000,)\n(10000, 16, 16, 16, 3)\n"
    }
   ],
   "source": [
    "for dirname,_, filenames in os.walk('data'):\n",
    "    for filename in filenames:\n",
    "        print(os.path.join(dirname,filename))\n",
    "\n",
    "with h5py.File('data/full_dataset_vectors.h5', 'r') as dataset:\n",
    "    x_train = dataset[\"X_train\"][:]\n",
    "    x_test = dataset[\"X_test\"][:]\n",
    "    y_train = dataset[\"y_train\"][:]\n",
    "    y_test = dataset[\"y_test\"][:]\n",
    "\n",
    "print (\"x_train shape: \", x_train.shape)\n",
    "print (\"y_train shape: \", y_train.shape)\n",
    "print (\"x_test shape:  \", x_test.shape)\n",
    "print (\"y_test shape:  \", y_test.shape)\n",
    "\n",
    "xtrain = np.ndarray((x_train.shape[0], 4096, 3))\n",
    "xtest = np.ndarray((x_test.shape[0], 4096, 3))\n",
    "def add_rgb_dimention(array):\n",
    "    scaler_map = cm.ScalarMappable(cmap=\"Oranges\")\n",
    "    array = scaler_map.to_rgba(array)[:, : -1]\n",
    "    return array\n",
    "\n",
    "for i in range(x_train.shape[0]):\n",
    "    xtrain[i] = add_rgb_dimention(x_train[i])\n",
    "for i in range(x_test.shape[0]):\n",
    "    xtest[i] = add_rgb_dimention(x_test[i])\n",
    "\n",
    "\n",
    "xtrain = xtrain.reshape(x_train.shape[0], 16, 16, 16, 3)\n",
    "xtest = xtest.reshape(x_test.shape[0], 16, 16, 16, 3)\n",
    "\n",
    "print(xtrain.shape)\n",
    "\n",
    "y_train = tf.keras.utils.to_categorical(y_train, 10)\n",
    "y_test = tf.keras.utils.to_categorical(y_test, 10)"
   ]
  },
  {
   "cell_type": "code",
   "execution_count": 58,
   "metadata": {},
   "outputs": [],
   "source": [
    "model = tf.keras.models.Sequential()\n",
    "model.add(tf.keras.layers.Conv3D(filters=8, kernel_size=(3, 3, 3),strides=1,padding ='same',activation='relu'))\n",
    "model.add(tf.keras.layers.BatchNormalization(momentum=0.15, epsilon=1e-5, gamma_initializer=\"uniform\"))\n",
    "model.add(tf.keras.layers.Dropout(0.2))\n",
    "model.add(tf.keras.layers.Conv3D(filters=8, kernel_size=(3, 3, 3),strides=1,padding ='same',activation='relu'))\n",
    "model.add(tf.keras.layers.BatchNormalization(momentum=0.15, epsilon=1e-5, gamma_initializer=\"uniform\"))\n",
    "model.add(tf.keras.layers.MaxPool3D(pool_size=(2, 2, 2)))\n",
    "model.add(tf.keras.layers.Flatten())\n",
    "model.add(tf.keras.layers.Dense(units=8192, activation='relu'))\n",
    "model.add(tf.keras.layers.Dropout(0.4))\n",
    "model.add(tf.keras.layers.Dense(units=10, activation='softmax'))"
   ]
  },
  {
   "cell_type": "code",
   "execution_count": 59,
   "metadata": {
    "tags": []
   },
   "outputs": [
    {
     "output_type": "stream",
     "name": "stdout",
     "text": "Model: \"sequential_16\"\n_________________________________________________________________\nLayer (type)                 Output Shape              Param #   \n=================================================================\nconv3d_64 (Conv3D)           (None, 16, 16, 16, 8)     656       \n_________________________________________________________________\nbatch_normalization_61 (Batc (None, 16, 16, 16, 8)     32        \n_________________________________________________________________\ndropout_117 (Dropout)        (None, 16, 16, 16, 8)     0         \n_________________________________________________________________\nconv3d_65 (Conv3D)           (None, 16, 16, 16, 8)     1736      \n_________________________________________________________________\nbatch_normalization_62 (Batc (None, 16, 16, 16, 8)     32        \n_________________________________________________________________\nmax_pooling3d_18 (MaxPooling (None, 8, 8, 8, 8)        0         \n_________________________________________________________________\nflatten_23 (Flatten)         (None, 4096)              0         \n_________________________________________________________________\ndense_76 (Dense)             (None, 8192)              33562624  \n_________________________________________________________________\ndropout_118 (Dropout)        (None, 8192)              0         \n_________________________________________________________________\ndense_77 (Dense)             (None, 10)                81930     \n=================================================================\nTotal params: 33,647,010\nTrainable params: 33,646,978\nNon-trainable params: 32\n_________________________________________________________________\n"
    }
   ],
   "source": [
    "\n",
    "adam = tf.keras.optimizers.Adam(learning_rate=0.001, beta_1=0.9, beta_2=0.999, amsgrad=True)\n",
    "model.compile(loss='categorical_crossentropy', optimizer=adam, metrics=['acc'])\n",
    "model.build(input_shape=(None, 16,16,16,3))\n",
    "model.summary()\n"
   ]
  },
  {
   "cell_type": "code",
   "execution_count": 60,
   "metadata": {
    "tags": []
   },
   "outputs": [
    {
     "output_type": "stream",
     "name": "stdout",
     "text": "Epoch 1/50\n 1/63 [..............................] - ETA: 0s - loss: 2.3042 - acc: 0.0703WARNING:tensorflow:Callbacks method `on_train_batch_end` is slow compared to the batch time (batch time: 0.0185s vs `on_train_batch_end` time: 0.0280s). Check your callbacks.\n63/63 [==============================] - 3s 45ms/step - loss: 1.5457 - acc: 0.4666 - val_loss: 1.2405 - val_acc: 0.5685\nEpoch 2/50\n63/63 [==============================] - 3s 45ms/step - loss: 1.1036 - acc: 0.6236 - val_loss: 1.1625 - val_acc: 0.6070\nEpoch 3/50\n63/63 [==============================] - 3s 42ms/step - loss: 0.9695 - acc: 0.6644 - val_loss: 1.1540 - val_acc: 0.6100\nEpoch 4/50\n63/63 [==============================] - 2s 39ms/step - loss: 0.8366 - acc: 0.7099 - val_loss: 1.0577 - val_acc: 0.6350\nEpoch 5/50\n63/63 [==============================] - 2s 39ms/step - loss: 0.7205 - acc: 0.7566 - val_loss: 1.0198 - val_acc: 0.6570\nEpoch 6/50\n63/63 [==============================] - 2s 39ms/step - loss: 0.5881 - acc: 0.8004 - val_loss: 1.0535 - val_acc: 0.6685\nEpoch 7/50\n63/63 [==============================] - 3s 40ms/step - loss: 0.4632 - acc: 0.8426 - val_loss: 1.2102 - val_acc: 0.6690\nEpoch 8/50\n63/63 [==============================] - 3s 40ms/step - loss: 0.3554 - acc: 0.8820 - val_loss: 1.1943 - val_acc: 0.6605\nEpoch 9/50\n63/63 [==============================] - 2s 40ms/step - loss: 0.2409 - acc: 0.9212 - val_loss: 1.2422 - val_acc: 0.6795\nEpoch 10/50\n63/63 [==============================] - 2s 38ms/step - loss: 0.1846 - acc: 0.9415 - val_loss: 1.3598 - val_acc: 0.6575\nEpoch 11/50\n63/63 [==============================] - 3s 40ms/step - loss: 0.1759 - acc: 0.9433 - val_loss: 1.3723 - val_acc: 0.6710\nEpoch 12/50\n63/63 [==============================] - 2s 39ms/step - loss: 0.1435 - acc: 0.9554 - val_loss: 1.5029 - val_acc: 0.6835\nEpoch 13/50\n63/63 [==============================] - 3s 42ms/step - loss: 0.1231 - acc: 0.9631 - val_loss: 1.5011 - val_acc: 0.6770\nEpoch 14/50\n63/63 [==============================] - 2s 39ms/step - loss: 0.0813 - acc: 0.9758 - val_loss: 1.5635 - val_acc: 0.6870\nEpoch 15/50\n63/63 [==============================] - 3s 42ms/step - loss: 0.0677 - acc: 0.9769 - val_loss: 1.6603 - val_acc: 0.6815\nEpoch 16/50\n63/63 [==============================] - 3s 46ms/step - loss: 0.0669 - acc: 0.9793 - val_loss: 1.6008 - val_acc: 0.6835\nEpoch 17/50\n63/63 [==============================] - 2s 38ms/step - loss: 0.0544 - acc: 0.9839 - val_loss: 1.7022 - val_acc: 0.6955\nEpoch 18/50\n63/63 [==============================] - 3s 44ms/step - loss: 0.0513 - acc: 0.9854 - val_loss: 1.7142 - val_acc: 0.6915\nEpoch 19/50\n63/63 [==============================] - 3s 41ms/step - loss: 0.0390 - acc: 0.9869 - val_loss: 1.7643 - val_acc: 0.6810\nEpoch 20/50\n63/63 [==============================] - 3s 46ms/step - loss: 0.0396 - acc: 0.9894 - val_loss: 1.9198 - val_acc: 0.6885\nEpoch 21/50\n63/63 [==============================] - 3s 54ms/step - loss: 0.0505 - acc: 0.9849 - val_loss: 1.9384 - val_acc: 0.6800\nEpoch 22/50\n63/63 [==============================] - 5s 85ms/step - loss: 0.0605 - acc: 0.9816 - val_loss: 1.8896 - val_acc: 0.6780\nEpoch 23/50\n63/63 [==============================] - 37s 594ms/step - loss: 0.0709 - acc: 0.9796 - val_loss: 1.8204 - val_acc: 0.6845\nEpoch 24/50\n63/63 [==============================] - 8s 121ms/step - loss: 0.0645 - acc: 0.9799 - val_loss: 2.0214 - val_acc: 0.6770\nEpoch 25/50\n63/63 [==============================] - 4s 67ms/step - loss: 0.0395 - acc: 0.9881 - val_loss: 1.8084 - val_acc: 0.6935\nEpoch 26/50\n63/63 [==============================] - 3s 50ms/step - loss: 0.0365 - acc: 0.9886 - val_loss: 1.8412 - val_acc: 0.6820\nEpoch 27/50\n63/63 [==============================] - 3s 47ms/step - loss: 0.0282 - acc: 0.9912 - val_loss: 1.8862 - val_acc: 0.6855\nEpoch 28/50\n63/63 [==============================] - 3s 51ms/step - loss: 0.0182 - acc: 0.9955 - val_loss: 1.8515 - val_acc: 0.6915\nEpoch 29/50\n63/63 [==============================] - 5s 80ms/step - loss: 0.0149 - acc: 0.9952 - val_loss: 1.9481 - val_acc: 0.6930\nEpoch 30/50\n63/63 [==============================] - 3s 45ms/step - loss: 0.0245 - acc: 0.9936 - val_loss: 1.9540 - val_acc: 0.6800\nEpoch 31/50\n63/63 [==============================] - 3s 45ms/step - loss: 0.0327 - acc: 0.9902 - val_loss: 2.0389 - val_acc: 0.6740\nEpoch 32/50\n63/63 [==============================] - 4s 62ms/step - loss: 0.0294 - acc: 0.9918 - val_loss: 1.9635 - val_acc: 0.6930\nEpoch 33/50\n63/63 [==============================] - 4s 65ms/step - loss: 0.0256 - acc: 0.9924 - val_loss: 1.9182 - val_acc: 0.6965\nEpoch 34/50\n63/63 [==============================] - 4s 56ms/step - loss: 0.0328 - acc: 0.9901 - val_loss: 2.0169 - val_acc: 0.6875\nEpoch 35/50\n63/63 [==============================] - 5s 84ms/step - loss: 0.0227 - acc: 0.9923 - val_loss: 1.9879 - val_acc: 0.6930\nEpoch 36/50\n63/63 [==============================] - 19s 308ms/step - loss: 0.0227 - acc: 0.9930 - val_loss: 2.0388 - val_acc: 0.6880\nEpoch 37/50\n63/63 [==============================] - 46s 736ms/step - loss: 0.0330 - acc: 0.9910 - val_loss: 1.9110 - val_acc: 0.6970\nEpoch 38/50\n63/63 [==============================] - 4s 56ms/step - loss: 0.0238 - acc: 0.9927 - val_loss: 2.0390 - val_acc: 0.6970\nEpoch 39/50\n63/63 [==============================] - 3s 46ms/step - loss: 0.0241 - acc: 0.9930 - val_loss: 2.1857 - val_acc: 0.6880\nEpoch 40/50\n63/63 [==============================] - 20s 311ms/step - loss: 0.0254 - acc: 0.9920 - val_loss: 2.1712 - val_acc: 0.6895\nEpoch 41/50\n63/63 [==============================] - 4s 71ms/step - loss: 0.0255 - acc: 0.9936 - val_loss: 1.9558 - val_acc: 0.6900\nEpoch 42/50\n63/63 [==============================] - 3s 44ms/step - loss: 0.0235 - acc: 0.9935 - val_loss: 2.0816 - val_acc: 0.6880\nEpoch 43/50\n63/63 [==============================] - 4s 65ms/step - loss: 0.0158 - acc: 0.9945 - val_loss: 2.1295 - val_acc: 0.6955\nEpoch 44/50\n63/63 [==============================] - 3s 44ms/step - loss: 0.0110 - acc: 0.9977 - val_loss: 2.0960 - val_acc: 0.6920\nEpoch 45/50\n63/63 [==============================] - 3s 41ms/step - loss: 0.0072 - acc: 0.9977 - val_loss: 2.0329 - val_acc: 0.6895\nEpoch 46/50\n63/63 [==============================] - 3s 43ms/step - loss: 0.0053 - acc: 0.9981 - val_loss: 1.9749 - val_acc: 0.6990\nEpoch 47/50\n63/63 [==============================] - 3s 43ms/step - loss: 0.0146 - acc: 0.9958 - val_loss: 2.1167 - val_acc: 0.6830\nEpoch 48/50\n63/63 [==============================] - 3s 44ms/step - loss: 0.0241 - acc: 0.9933 - val_loss: 2.1111 - val_acc: 0.6870\nEpoch 49/50\n63/63 [==============================] - 3s 43ms/step - loss: 0.0141 - acc: 0.9961 - val_loss: 2.1235 - val_acc: 0.6910\nEpoch 50/50\n63/63 [==============================] - 3s 40ms/step - loss: 0.0118 - acc: 0.9965 - val_loss: 1.9512 - val_acc: 0.6985\n"
    },
    {
     "output_type": "execute_result",
     "data": {
      "text/plain": "<tensorflow.python.keras.callbacks.History at 0x7f2a50385050>"
     },
     "metadata": {},
     "execution_count": 60
    }
   ],
   "source": [
    "model.fit(x=xtrain, y=y_train, batch_size=128, epochs=50, validation_split=0.2)"
   ]
  },
  {
   "cell_type": "code",
   "execution_count": 61,
   "metadata": {
    "tags": []
   },
   "outputs": [
    {
     "output_type": "stream",
     "name": "stdout",
     "text": "63/63 [==============================] - 1s 9ms/step - loss: 2.0277 - acc: 0.6815\n"
    },
    {
     "output_type": "execute_result",
     "data": {
      "text/plain": "[2.0276589393615723, 0.6815000176429749]"
     },
     "metadata": {},
     "execution_count": 61
    }
   ],
   "source": [
    "model.evaluate(x=xtest,y=y_test)"
   ]
  },
  {
   "cell_type": "code",
   "execution_count": null,
   "metadata": {},
   "outputs": [],
   "source": []
  }
 ],
 "metadata": {
  "language_info": {
   "codemirror_mode": {
    "name": "ipython",
    "version": 3
   },
   "file_extension": ".py",
   "mimetype": "text/x-python",
   "name": "python",
   "nbconvert_exporter": "python",
   "pygments_lexer": "ipython3",
   "version": "3.7.10-final"
  },
  "orig_nbformat": 2,
  "kernelspec": {
   "name": "python371064bitmyenvconda20f13e68e0b34f549624afa4f7e0ff4c",
   "display_name": "Python 3.7.10 64-bit ('myenv': conda)"
  }
 },
 "nbformat": 4,
 "nbformat_minor": 2
}